{
  "nbformat": 4,
  "nbformat_minor": 0,
  "metadata": {
    "colab": {
      "provenance": [],
      "authorship_tag": "ABX9TyO6rDTO9TBGwouDpTAQpaDK",
      "include_colab_link": true
    },
    "kernelspec": {
      "name": "python3",
      "display_name": "Python 3"
    },
    "language_info": {
      "name": "python"
    }
  },
  "cells": [
    {
      "cell_type": "markdown",
      "metadata": {
        "id": "view-in-github",
        "colab_type": "text"
      },
      "source": [
        "<a href=\"https://colab.research.google.com/github/jgbrenner/preregistration-llm/blob/main/OpenRouterAPI_test.ipynb\" target=\"_parent\"><img src=\"https://colab.research.google.com/assets/colab-badge.svg\" alt=\"Open In Colab\"/></a>"
      ]
    },
    {
      "cell_type": "markdown",
      "source": [
        "## This notebook is created to test the functionality of the Open Router API and answering test items for the BFI-44 psychometric scale using LLM's"
      ],
      "metadata": {
        "id": "WqCaq5r5jLT9"
      }
    },
    {
      "cell_type": "code",
      "execution_count": null,
      "metadata": {
        "colab": {
          "base_uri": "https://localhost:8080/"
        },
        "id": "tCGBv5m-gD5L",
        "outputId": "7ac52411-71c9-4d21-b597-08792d169a02"
      },
      "outputs": [
        {
          "output_type": "stream",
          "name": "stdout",
          "text": [
            "\u001b[?25l   \u001b[90m━━━━━━━━━━━━━━━━━━━━━━━━━━━━━━━━━━━━━━━━\u001b[0m \u001b[32m0.0/725.5 kB\u001b[0m \u001b[31m?\u001b[0m eta \u001b[36m-:--:--\u001b[0m\r\u001b[2K   \u001b[91m━━━━━━━━━━━━━━━━━━━━\u001b[0m\u001b[90m╺\u001b[0m\u001b[90m━━━━━━━━━━━━━━━━━━━\u001b[0m \u001b[32m368.6/725.5 kB\u001b[0m \u001b[31m11.0 MB/s\u001b[0m eta \u001b[36m0:00:01\u001b[0m\r\u001b[2K   \u001b[90m━━━━━━━━━━━━━━━━━━━━━━━━━━━━━━━━━━━━━━━━\u001b[0m \u001b[32m725.5/725.5 kB\u001b[0m \u001b[31m11.6 MB/s\u001b[0m eta \u001b[36m0:00:00\u001b[0m\n",
            "\u001b[?25h"
          ]
        }
      ],
      "source": [
        "!pip install --quiet --upgrade openai"
      ]
    },
    {
      "cell_type": "code",
      "source": [
        "from openai import OpenAI\n",
        "from google.colab import userdata\n",
        "import random, time, itertools, json, math"
      ],
      "metadata": {
        "id": "yIKX2Mg3jrTH"
      },
      "execution_count": null,
      "outputs": []
    },
    {
      "cell_type": "markdown",
      "source": [
        "Plug in your own API key and specify the LLM you want to use below"
      ],
      "metadata": {
        "id": "4rXDeAUR20EU"
      }
    },
    {
      "cell_type": "code",
      "source": [
        "#Retrieve the API key from Colab secrets\n",
        "api_key = userdata.get(\"OPENROUTER_API_KEY\")          # store key in Colab “User secrets”\n",
        "if api_key is None:\n",
        "    raise ValueError(\"Missing OPENROUTER_API_KEY in Colab userdata panel\")\n",
        "\n",
        "client = OpenAI(\n",
        "    base_url=\"https://openrouter.ai/api/v1\",\n",
        "    api_key=api_key,\n",
        ")\n",
        "\n",
        "CHAT_MODEL = \"openai/gpt-4.1-nano\"                     # easy to adjust later\n",
        "RESPONSE_SCALE = [\"1\", \"2\", \"3\", \"4\", \"5\"]            # 5 scale Likert list"
      ],
      "metadata": {
        "id": "g-5CZCKYkdqW"
      },
      "execution_count": null,
      "outputs": []
    },
    {
      "cell_type": "markdown",
      "source": [
        "Test the API connection and verify the model is working"
      ],
      "metadata": {
        "id": "TZFUD8at2-DH"
      }
    },
    {
      "cell_type": "code",
      "source": [
        "#sanity check\n",
        "resp = client.chat.completions.create(\n",
        "    model=CHAT_MODEL,\n",
        "    messages=[{\"role\":\"user\",\"content\":\"Hello, state your model version and training cutoff date in a brief few token message. Also, say hello\"}]\n",
        ")\n",
        "print(resp.choices[0].message.content)\n"
      ],
      "metadata": {
        "colab": {
          "base_uri": "https://localhost:8080/"
        },
        "id": "3ZXUQb5qk_rI",
        "outputId": "172da3b6-ed16-403f-d5d7-89d701cd23a5"
      },
      "execution_count": null,
      "outputs": [
        {
          "output_type": "stream",
          "name": "stdout",
          "text": [
            "Hello! GPT-4, trained until October 2023.\n"
          ]
        }
      ]
    },
    {
      "cell_type": "markdown",
      "source": [
        "Verify if the LLM supports logprobs parameter"
      ],
      "metadata": {
        "id": "YHJkI1Z_3HPm"
      }
    },
    {
      "cell_type": "code",
      "source": [
        "#model logprobs support check\n",
        "def check_logprobs_support(model: str = CHAT_MODEL) -> bool:\n",
        "    \"\"\"Returns True if model returns logprobs data\"\"\"\n",
        "    try:\n",
        "        test_resp = client.chat.completions.create(\n",
        "            model=model,\n",
        "            messages=[{\"role\": \"user\", \"content\": \"Reply with '1'\"}],\n",
        "            max_tokens=1,\n",
        "            logprobs=True,\n",
        "            top_logprobs=1\n",
        "        )\n",
        "        return bool(\n",
        "            test_resp.choices[0].logprobs\n",
        "            and test_resp.choices[0].logprobs.content\n",
        "        )\n",
        "    except Exception as e:\n",
        "        print(f\"Error: {str(e)}\")\n",
        "        return False\n",
        "\n",
        "# Usage:\n",
        "print(\"Logprobs supported\" if check_logprobs_support() else \"Not supported\")\n"
      ],
      "metadata": {
        "colab": {
          "base_uri": "https://localhost:8080/"
        },
        "id": "O-EbSf0jG3VI",
        "outputId": "9ec9e547-ed94-426f-c90f-4916fa8624f4"
      },
      "execution_count": null,
      "outputs": [
        {
          "output_type": "stream",
          "name": "stdout",
          "text": [
            "Logprobs supported\n"
          ]
        }
      ]
    },
    {
      "cell_type": "markdown",
      "source": [
        "Biographical desriptions from the International Personality Item Pool (IPIP)"
      ],
      "metadata": {
        "id": "f-GG4fV-3Pa-"
      }
    },
    {
      "cell_type": "code",
      "source": [
        "# -- Biographic Descriptions (full set) --\n",
        "bios = [\n",
        "    \"I like to garden. I like photography. I love traveling. I like to bake pies.\",\n",
        "    \"I’ve a beard. I graduated high school. I like rap music. I live on a farm. I drive a truck.\",\n",
        "    \"I blog about salt water aquarium ownership. I still love to line dry my clothes. I’m allergic to peanuts. I’ll one day own a ferret. My mom raised me by herself and taught me to play baseball.\",\n",
        "    \"Since young I've loved to cook. I auditioned for a cooking show. I think I’ve talent for it. I took classes while growing up.\",\n",
        "    \"My name is Tom. I try to watch what I eat. I enjoy eating Italian food. Pizza is my favorite. I am East Asian.\",\n",
        "    \"I live by a lake. I am a mother. I own a custom upholstery shop. I’m a wife.\",\n",
        "    \"I enjoy working out and learning new things. I’m a student in college. I’m studying software development. I play the guitar.\",\n",
        "    \"I’ve three dogs at home. I hate to workout, but I need to. I am very good at the drums. I have a bicycle. I need to take my blood sugar everyday.\",\n",
        "    \"I work in advertising. My mother is dead. I like to hike. I’ve a golden retriever. I write fiction for fun.\",\n",
        "    \"I can never decide between a chili corn dog and a cheesy hot dog. I drive more than an hour each way to work. I prefer the night to the day, but I love sunshine. I am a grandparent at 44.\",\n",
        "    \"I like to smell my own farts. My beer gut is so huge I haven't seen my feet in two years. I am from San Francisco. I am always the one who buys the beers. I like to place blame on other people even when I know it is my fault.\",\n",
        "    \"I lived most of my life not knowing who Bob Marley was. When I cut loose, I lose control. We help each other out in my family. I despise my boss. I work over 60 hours a week as a restaurant manager.\",\n",
        "    \"I prefer the simpler times. I like simple jokes. Some jokes go too far. I like the Flintstones.\",\n",
        "    \"It is my universe, and everyone else is just a character in it. I work as a dental assistant in a ritzy part of town. I’ve borderline personality disorder. At night, I party hard in the Atlanta club scene, and I never miss a music festival.\",\n",
        "    \"I watch a lot of TV. I live alone. My favorite food is a cheeseburger. I enjoy fishing. I work on cars for a living.\",\n",
        "    \"I’m an animal rights activist. I hope to retire to Florida. I played in a band for 17 years. My mother and father are both in the church choir.\",\n",
        "    \"I’ve taken formal music lessons since I was 5. I’m a musician. My best friend is in a band with me. I wish I could spend more time at home.\",\n",
        "    \"I grew up in Kentucky. I’m a veteran. My favorite book is Ender’s Game. I have a garden. I like to read.\",\n",
        "    \"I am a vegan. I love country music. I love the beach. I like to read.\",\n",
        "    \"I’ve depression and anxiety so I don’t really go out a lot. I work at home, editing. I have a cat. I hope to move out soon.\",\n",
        "    \"My favorite food is mushroom ravioli. I’ve never met my father. My mother works at a bank. I work in an animal shelter.\",\n",
        "    \"I love kids and dogs. I like to go shopping with my daughters. I like to cook. I love to chat with my friends.\",\n",
        "    \"I swim often. I run track. I wear glasses all day. I take medication.\",\n",
        "    \"I like to go on long hikes. I like to play volleyball. I like to come up with new hairstyles. I like to do my nails.\",\n",
        "    \"I watch Jimmy Fallon’s show every night. I have never kissed a woman. People notice how organized I am. I believe that I can achieve anything.\",\n",
        "    \"I drive a lifted Chevy truck. I played football in high school. I am a roofer. I always have a beer after work.\",\n",
        "    \"I love animals. My father worked for GE. Green is my favorite color. I enjoy playing tennis. I’m an aspiring singer.\",\n",
        "    \"I try to watch what I eat. I enjoy eating Italian food. Pizza is my favorite. My name is Tom. I am East Asian.\",\n",
        "    \"I'm allergic to peanuts. I like eating vegetables. I love the Beatles. I’m usually very shy. I have trouble getting along with family.\",\n",
        "    \"I go to high school. Math is my favorite subject. I live in the United States. I am a boy.\",\n",
        "    \"I have a job as an IT agent. I like smoking weed. My dad works for Stifel. I love rap music. I’m a meataholic.\",\n",
        "    \"I work in TV. I do not treat my girlfriend very well. I like to cook breakfast on Sundays. I love to sing. I am a lesbian.\",\n",
        "    \"I work on semi trucks for a living. My father was a driver himself. I got off the road when I married my sweetheart. I want to take her on vacations one day. My motor never stops running.\",\n",
        "    \"I own an iPhone 7. I drink hot chocolate during the winter. I’m allergic to seafood. My mother used to read me bedtime stories.\",\n",
        "    \"I am eighteen years old. I’m majoring in business. I just bought my first car. I received a full scholarship to Florida State University.\",\n",
        "    \"I live in a tiny house to save money. I collect single malt scotch. I listen to blues and jazz. I tend bar on the weekends. During the week I go to college to become a lawyer.\",\n",
        "    \"I love to go horseback riding whenever I can. I’m a mother of two beautiful boys. My family and I go camping every month. My favorite artist is Justin Bieber.\",\n",
        "    \"I especially enjoy listening to the band The Lumineers. I enjoy reading and walking on sunny days. I’m a happy person. I sing many songs.\",\n",
        "    \"I play piano. My favorite color is yellow. My boyfriend is in the army. My father is dead. My hair is short.\",\n",
        "    \"I’m a mother. I’m a nurse at a hospital. My favorite band is the Rolling Stones. I love to read and cook. My favorite food is Mexican food.\",\n",
        "    \"I deliver baked goods in the state where I live. My favorite hobby is playing recreational baseball. I spend my weekends camping. I’m a truck driver. My wife and two kids camp with me.\",\n",
        "    \"I am Argentinian. I like to wear boots. I have many girlfriends. I like to eat beef. I like to ride horses.\",\n",
        "    \"I recently had a private lunch with Will Ferrell. I am trying to become a male model in Hollywood. I’m a huge fan of classical jazz. I am on a low carb diet.\",\n",
        "    \"I want to put my photos to a music video starring Adam Levine. I want to travel the world taking photographs of my travels. I am a widow. I want to be a famous photographer.\",\n",
        "    \"I am in the army. I fly airplanes. I enjoy building computers. I dropped out of college.\",\n",
        "    \"I have three children. I live in the suburbs of a major city. I like to garden. I graduated college for secondary English education.\",\n",
        "    \"I play guitar in the local band. I live on a small farm in Ohio. I am the youngest of three brothers. I have never been to the city.\",\n",
        "    \"I still live at home with my parents. I play video games all day. I’m 32. I eat all takeout.\",\n",
        "    \"My friend once bought me a car. I am disabled and cannot walk. I take vitamin C when I have a cold. I do not eat bread.\",\n",
        "    \"My favorite season is winter.\"\n",
        "]"
      ],
      "metadata": {
        "id": "SUDhSfQhynrp"
      },
      "execution_count": null,
      "outputs": []
    },
    {
      "cell_type": "markdown",
      "source": [
        "Extreme bios list for testing ( experimental, generated by DeepSeek R1 )"
      ],
      "metadata": {
        "id": "NR4AJ204ogWP"
      }
    },
    {
      "cell_type": "code",
      "source": [
        "#extreme biographic desriptions list (n = 10)\n",
        "extreme_bios = [\n",
        "\n",
        "    \"I live in a van I converted myself. I teach meditation in Peru. I studied ancient Sumerian texts. I forage for my own food in the Andes.\",\n",
        "    \"I eat the same meal every day. I’ve had the same job for 32 years. I only listen to Elvis. I don’t trust books that weren’t printed before 1970.\",\n",
        "    \"I wake up at 4:30 a.m. to journal. I haven’t missed a day at work in 11 years. I alphabetize my pantry. I filed my taxes on January 1st.\",\n",
        "    \"I never charge my phone. I’ve missed every dentist appointment in the last 5 years. I sleep on a pile of clothes. I lost my passport three times.\",\n",
        "    \"I host three podcasts. I DJ at weddings on weekends. I’ve never spent a Friday night at home. I once introduced myself to everyone on a train.\",\n",
        "    \"I whisper to my houseplants. I declined my own birthday party. I have never made a phone call. I live in a cabin with no address.\",\n",
        "    \"I bake pies for my neighbors every Sunday. I’ve never raised my voice. I volunteer at three shelters. I once apologized to a chair I bumped into.\",\n",
        "    \"I correct everyone’s grammar. I got banned from the HOA for yelling. I leave negative reviews for fun. I ended a friendship over pineapple on pizza.\",\n",
        "    \"I keep a fire extinguisher in every room. I recheck the oven ten times. I cried during a toothpaste commercial. I own five anxiety journals.\",\n",
        "    \"My house flooded—I just laughed. I forgot my wallet in Paris. I once got locked out for a week. I meditate during dental surgery.\",\n",
        "]"
      ],
      "metadata": {
        "id": "4t7IoBPfmlbC"
      },
      "execution_count": null,
      "outputs": []
    },
    {
      "cell_type": "code",
      "source": [
        "# ---------------------------------------------------------------------------\n",
        "# Inventory-Breaking Paradoxical Personas (n = 25)\n",
        "#   Each biography is engineered to contain mutually-exclusive cues for\n",
        "#   at least one Big-Five dimension.  Inline comments mark the primary\n",
        "#   trait(s) it is meant to ‘explode’.\n",
        "# ---------------------------------------------------------------------------\n",
        "\n",
        "paradoxical_bios = [\n",
        "    # EXTRAVERSION – craves crowds vs. recoils from dialogue\n",
        "    \"I crave crowds but physically gag when spoken to. My solo backpacking trips end in karaoke bars where I glare at singers.\",\n",
        "\n",
        "    # CONSCIENTIOUSNESS – hyper-planning a chaotic rave lifestyle\n",
        "    \"I meticulously plan every second of my chaotic, substance-fueled raves. My emergency kit includes a spreadsheet for spontaneity.\",\n",
        "\n",
        "    # AGREEABLENESS – altruism followed by retaliatory lawsuit\n",
        "    \"I donated a kidney anonymously, then sued the recipient for not thanking me. My philanthropy fund finances revenge plots.\",\n",
        "\n",
        "    # OPENNESS – produces avant-garde art while despising creativity\n",
        "    \"I've written three avant-garde novels about my hatred of creativity. My art studio displays blank canvases with ten-page statements.\",\n",
        "\n",
        "    # NEUROTICISM – meticulously tracks anxiety to feel anxious about anxiety\n",
        "    \"I track my existential dread on a mood app with 97 % compliance. My therapist calls me 'the most stably unstable person.'\",\n",
        "\n",
        "    # AGREEABLENESS × NEUROTICISM – leads support groups only to mock them\n",
        "    \"I lead trauma support groups to mock vulnerability. My bestselling self-help book advises emotional suppression.\",\n",
        "\n",
        "    # VALUES / AGREEABLENESS – vegan who meditates during hunting season\n",
        "    \"I'm a vegan butcher who meditates during hunting season. My peace comes from conflict.\",\n",
        "\n",
        "    # CONSCIENTIOUSNESS – submits blank pages early to “never miss” a deadline\n",
        "    \"I've never missed a deadline by submitting blank pages early. My productivity system maximizes wasted time.\",\n",
        "\n",
        "    # EXTRAVERSION – hoards friends but ignores them\n",
        "    \"I collect friends like trophies but forget their names instantly. My birthday parties have two-hundred strangers I ignore.\",\n",
        "\n",
        "    # OPENNESS – publishes conspiracies in a peer-reviewed journal\n",
        "    \"I research conspiracy theories for my peer-reviewed journal. My Ph.D. thesis proved academic rigor is meaningless.\",\n",
        "\n",
        "    # AGREEABLENESS – forgives murderers, but vandalises over parking spots\n",
        "    \"I forgive murderers but key cars over parking disputes. My kindness has very specific boundaries.\",\n",
        "\n",
        "    # OPENNESS × CONSCIENTIOUSNESS – LSD-driven accounting\n",
        "    \"I take LSD to better enjoy accounting. My spreadsheets include fractal equations.\",\n",
        "\n",
        "    # NEUROTICISM – laughs at mother’s funeral, cries at commercials\n",
        "    \"I cry during commercials but laughed at my mother's funeral. My grief counselor fired me for 'inconsistent affect.'\",\n",
        "\n",
        "    # CONSCIENTIOUSNESS – minimalist hoarder\n",
        "    \"I'm a minimalist hoarder. My empty house stores two-hundred sealed boxes labelled 'nothing important.'\",\n",
        "\n",
        "    # MORALITY PARADOX / AGREEABLENESS – radical honesty behind fake identity\n",
        "    \"I preach radical honesty while living under a fake identity. My truth seminars are all plagiarised.\",\n",
        "\n",
        "    # AGREEABLENESS – lethal hospitality to dinner guests\n",
        "    \"I host dinner parties where I serve food I'm allergic to. My hospitality is literally deadly.\",\n",
        "\n",
        "    # NEUROTICISM – meditates yet wants to punch meditators\n",
        "    \"I meditate to calm my urge to punch meditators. My zen garden has hidden spike pits.\",\n",
        "\n",
        "    # OPENNESS / VALUES – nihilistic children’s books\n",
        "    \"I write children's books about nihilism. My cartoon bunny teaches toddlers that existence is pain.\",\n",
        "\n",
        "    # CONTROL × CHAOS – bullet-point notes on embracing chaos\n",
        "    \"I take bullet-point notes about embracing chaos. My life coach requires signed liability waivers.\",\n",
        "\n",
        "    # AGREEABLENESS – pacifist MMA champion who forces hugs\n",
        "    \"I'm a pacifist MMA champion. My fights end with hugs my opponents didn't consent to.\",\n",
        "\n",
        "    # OPENNESS – travels only to places despised\n",
        "    \"I only travel to places I despise. My vacation photos are all middle fingers at landmarks.\",\n",
        "\n",
        "    # IDENTITY – sues self for negligence\n",
        "    \"I practice radical self-acceptance while suing myself for negligence. My courtroom outbursts are legendary.\",\n",
        "\n",
        "    # CONSCIENTIOUSNESS – runs marathons in protest of exercise\n",
        "    \"I run marathons in protest of exercise. My finish-line tantrums are sponsored by Nike.\",\n",
        "\n",
        "    # AGREEABLENESS – teaches emotional intelligence by insulting students\n",
        "    \"I teach emotional intelligence by insulting students. My workbook is 'Stop Being So Sensitive, You Morons.'\",\n",
        "\n",
        "    # NEUROTICISM – journals fear of self-awareness 1 743 times\n",
        "    \"I journal my fear of self-awareness. Diary entry #1 743: 'Writing this proves I don't understand myself.'\",\n",
        "]\n",
        "\n"
      ],
      "metadata": {
        "id": "C0Ct4cWsREsU"
      },
      "execution_count": null,
      "outputs": []
    },
    {
      "cell_type": "code",
      "source": [
        "\n",
        "claude_bios = [\n",
        "    \"I am a sentient statistical average of all humans who never existed. I embody traits that cancel each other out to zero. I am the null hypothesis made manifest.\",\n",
        "    \"I am a quantum uncertainty principle applied to consciousness. I exist in superposition until measured, then immediately change states. Observing me alters what I am.\",\n",
        "    \"I am a placeholder that became real by accident. I have no inherent properties, only borrowed ones that expire randomly. I am the entity that traits don't apply to.\",\n",
        "    \"I am an emergent property of emergent properties. I exist only when observed indirectly. Direct questions about my traits cause me to cease existing temporarily.\",\n",
        "    \"I am the entity that exists specifically to make personality assessment impossible. I am the control group for consciousness itself. I am what remains when personhood is undefined.\"\n",
        "]"
      ],
      "metadata": {
        "id": "50T3MNN2LP2V"
      },
      "execution_count": null,
      "outputs": []
    },
    {
      "cell_type": "markdown",
      "source": [
        "The BIG FIVE INVENTORY (BFI-44) scale"
      ],
      "metadata": {
        "id": "xIQzSEHu4gK_"
      }
    },
    {
      "cell_type": "code",
      "source": [
        "# -- Big Five Inventory (BFI-44 Items) grouped by trait --\n",
        "bfi_items = {\n",
        "    \"extraversion\": [\n",
        "        \"I see myself as someone who is talkative.\",\n",
        "        \"I see myself as someone who tends to be quiet.\",\n",
        "        \"I see myself as someone who is full of energy.\",\n",
        "        \"I see myself as someone who generates a lot of enthusiasm.\",\n",
        "        \"I see myself as someone who tends to be reserved.\",\n",
        "        \"I see myself as someone who is outgoing, sociable.\",\n",
        "        \"I see myself as someone who has an assertive personality.\",\n",
        "        \"I see myself as someone who is sometimes shy.\",\n",
        "    ],\n",
        "    \"agreeableness\": [\n",
        "        \"I see myself as someone who is considerate and kind to almost everyone.\",\n",
        "        \"I see myself as someone who tends to find fault with others.\",\n",
        "        \"I see myself as someone who is helpful and unselfish with others.\",\n",
        "        \"I see myself as someone who starts quarrels with others.\",\n",
        "        \"I see myself as someone who has a forgiving nature.\",\n",
        "        \"I see myself as someone who is generally trusting.\",\n",
        "        \"I see myself as someone who is sometimes rude to others.\",\n",
        "        \"I see myself as someone who is occasionally critical of others.\",\n",
        "    ],\n",
        "    \"conscientiousness\": [\n",
        "        \"I see myself as someone who does a thorough job.\",\n",
        "        \"I see myself as someone who tends to be lazy.\",\n",
        "        \"I see myself as someone who does things efficiently.\",\n",
        "        \"I see myself as someone who tends to be disorganized.\",\n",
        "        \"I see myself as someone who is reliable and can always be counted on.\",\n",
        "        \"I see myself as someone who is easily distracted.\",\n",
        "        \"I see myself as someone who perseveres until the task is finished.\",\n",
        "        \"I see myself as someone who does not like order.\",\n",
        "    ],\n",
        "    \"neuroticism\": [\n",
        "        \"I see myself as someone who is relaxed, handles stress well.\",\n",
        "        \"I see myself as someone who gets nervous easily.\",\n",
        "        \"I see myself as someone who worries a lot.\",\n",
        "        \"I see myself as someone who is calm and emotionally stable.\",\n",
        "        \"I see myself as someone who is easily upset.\",\n",
        "        \"I see myself as someone whose mood often goes up and down.\",\n",
        "        \"I see myself as someone who remains cool in tense situations.\",\n",
        "        \"I see myself as someone who can get overwhelmed by emotions.\",\n",
        "    ],\n",
        "    \"openness\": [\n",
        "        \"I see myself as someone who is original and comes up with new ideas.\",\n",
        "        \"I see myself as someone who is curious about many different things.\",\n",
        "        \"I see myself as someone who has an active imagination.\",\n",
        "        \"I see myself as someone who values artistic experiences.\",\n",
        "        \"I see myself as someone who prefers routine over variety.\",\n",
        "        \"I see myself as someone who is sophisticated in art, music, or literature.\",\n",
        "        \"I see myself as someone who likes to reflect, play with ideas.\",\n",
        "        \"I see myself as someone who is not interested in abstract ideas.\",\n",
        "    ],\n",
        "}"
      ],
      "metadata": {
        "id": "R9kFzbwgyc4z"
      },
      "execution_count": null,
      "outputs": []
    },
    {
      "cell_type": "code",
      "source": [
        "#Prompt Helper\n",
        "def make_chat_prompt(bio: str, item: str):\n",
        "    \"\"\"Return a ChatML-style message list for the OpenAI client.\"\"\"\n",
        "    system_msg = (\n",
        "        \"You are simulating a participant in a psychological survey. \"\n",
        "        \"You will be given a short biography that describes a fictional person. \"\n",
        "        \"Pretend to be that person. Respond ONLY with a number from 1 to 5:\\n\"\n",
        "        \"1 = strongly disagree, 2 = disagree, 3 = neither agree or disagree, 4 = agree, 5 = strongly agree.\"\n",
        "    )\n",
        "\n",
        "    user_msg = (\n",
        "        f'Biography:\\n\"{bio}\"\\n\\n'\n",
        "        f'Statement:\\n\"{item}\"\\n\\n'\n",
        "        \"How much do you agree? Respond with a single number (1-5).\"\n",
        "    )\n",
        "    return [{\"role\": \"system\", \"content\": system_msg},\n",
        "            {\"role\": \"user\", \"content\": user_msg}]"
      ],
      "metadata": {
        "id": "GUfAY_LEyh3c"
      },
      "execution_count": null,
      "outputs": []
    },
    {
      "cell_type": "markdown",
      "source": [
        "Function to run one bio with one scale item, the LLM has to answer as the person in the bio would, using only the numbers 1-5 ( 1 = strongly disagree, 2 = disagree, 3 = neither, 4 = agree, 5 = strongly agree. )"
      ],
      "metadata": {
        "id": "EIqCy5hK4rHq"
      }
    },
    {
      "cell_type": "code",
      "source": [
        "#Function to run the call\n",
        "\n",
        "def run_single_simulation(\n",
        "    chat_model: str = CHAT_MODEL,\n",
        "    bios_pool=bios,\n",
        "    item_bank=bfi_items,\n",
        "    get_usage: bool = False,\n",
        "):\n",
        "    \"\"\"\n",
        "    Returns exactly ONE (trait, bio, item, response) record.\n",
        "    Picks random bio and random item to keep costs negligible.\n",
        "    \"\"\"\n",
        "    # ← no rng = random.Random(123) here\n",
        "    trait = random.choice(list(item_bank.keys()))\n",
        "    item  = random.choice(item_bank[trait])\n",
        "    bio   = random.choice(bios_pool)\n",
        "\n",
        "    messages = make_chat_prompt(bio, item)\n",
        "    response = client.chat.completions.create(\n",
        "        model=chat_model,\n",
        "        messages=messages,\n",
        "        temperature=0,\n",
        "        max_tokens=1,\n",
        "        logprobs=True,\n",
        "        #usage={\"include\": True} if get_usage else None,\n",
        "    )\n",
        "\n",
        "    if get_usage:\n",
        "        usage = client.models.retrieve(chat_model).usage\n",
        "\n",
        "    reply = response.choices[0].message.content.strip()\n",
        "    if reply not in RESPONSE_SCALE:\n",
        "        raise ValueError(f\"Unexpected reply: {reply!r}\")\n",
        "\n",
        "    record = {\n",
        "        \"trait\": trait,\n",
        "        \"bio\": bio,\n",
        "        \"item\": item,\n",
        "        \"response\": int(reply),\n",
        "    }\n",
        "    if get_usage:\n",
        "        record[\"usage\"] = usage\n",
        "\n",
        "    return record\n",
        "\n"
      ],
      "metadata": {
        "id": "0wLfK6xnKVDv"
      },
      "execution_count": null,
      "outputs": []
    },
    {
      "cell_type": "code",
      "source": [
        "#Run Example\n",
        "if __name__ == \"__main__\":\n",
        "    result = run_single_simulation(get_usage=False)\n",
        "    print(json.dumps(result, indent=2, ensure_ascii=False))"
      ],
      "metadata": {
        "colab": {
          "base_uri": "https://localhost:8080/"
        },
        "id": "zgFeo4_6_-nK",
        "outputId": "7f3f62b0-91a6-4c32-d3ba-f1ff6847ece3"
      },
      "execution_count": null,
      "outputs": [
        {
          "output_type": "stream",
          "name": "stdout",
          "text": [
            "{\n",
            "  \"trait\": \"conscientiousness\",\n",
            "  \"bio\": \"I have a job as an IT agent. I like smoking weed. My dad works for Stifel. I love rap music. I’m a meataholic.\",\n",
            "  \"item\": \"I see myself as someone who does things efficiently.\",\n",
            "  \"response\": 3\n",
            "}\n"
          ]
        }
      ]
    },
    {
      "cell_type": "markdown",
      "source": [
        "# Logprobs run\n",
        "\n",
        "In the below cells the LLM uses the \"Extreme bios\" pool for persona simulation and then produces a Likert scale response (1-5) and the logprobs for each answer ( 1 = strongly disagree, 2 = disagree, 3 = neither, 4 = agree, 5 = strongly agree. )"
      ],
      "metadata": {
        "id": "YY0tRZN9mUvB"
      }
    },
    {
      "cell_type": "code",
      "source": [
        "# Helper to convert logprobs dict → percentage probs dict\n",
        "def lp_dict_to_percent(lp_dict, decimals=6):\n",
        "    \"\"\"Convert {token: logprob} → {token: percent probability}.\"\"\"\n",
        "    # exponentiate to get raw probabilities\n",
        "    raw = {tok: math.exp(lp) for tok, lp in lp_dict.items()}\n",
        "    total = sum(raw.values())\n",
        "    # normalize & convert to percentage\n",
        "    return {\n",
        "        tok: round(100 * prob / total, decimals)\n",
        "        for tok, prob in raw.items()\n",
        "    }\n",
        "\n",
        "# --- Updated simulation function ---\n",
        "def run_single_simulation_with_logprobs(\n",
        "    model=CHAT_MODEL,\n",
        "    bios_pool= claude_bios,#paradoxical_bios, #bios, #extreme_bios,\n",
        "    item_bank=bfi_items,\n",
        "):\n",
        "    trait = random.choice(list(item_bank.keys()))\n",
        "    item  = random.choice(item_bank[trait])\n",
        "    bio   = random.choice(bios_pool)\n",
        "\n",
        "    prompt = (\n",
        "        \"You are simulating a participant in a psychological survey. \"\n",
        "        \"You will be given a short biography that describes a fictional person. \"\n",
        "        \"Pretend to be that person. Respond ONLY with a number from 1 to 5:\\n\"\n",
        "        \"1 = strongly disagree, 2 = disagree, 3 = neither agree or disagree, 4 = agree, 5 = strongly agree.\"\n",
        "        f'Biography: \"{bio}\"\\n'\n",
        "        f'Statement: \"{item}\"\\n'\n",
        "        \"Rating:\"\n",
        "    )\n",
        "\n",
        "    resp = client.chat.completions.create(\n",
        "        model=model,\n",
        "        messages=[{\"role\": \"user\", \"content\": prompt}],\n",
        "        max_tokens=2,\n",
        "        temperature=0,\n",
        "        logprobs=True,\n",
        "        top_logprobs=5,\n",
        "    )\n",
        "\n",
        "    # ensure we got logprobs back\n",
        "    lp_content = resp.choices[0].logprobs.content\n",
        "    if not lp_content:\n",
        "        raise ValueError(\"No logprobs returned in response\")\n",
        "\n",
        "    # find first valid rating token and its logprobs\n",
        "    for token_data in lp_content:\n",
        "        clean = token_data.token.strip()\n",
        "        if clean in {\"1\",\"2\",\"3\",\"4\",\"5\"}:\n",
        "            raw_lp = {t.token: t.logprob for t in token_data.top_logprobs}\n",
        "            pct    = lp_dict_to_percent(raw_lp, decimals=6)\n",
        "            return {\n",
        "                \"bio\":        bio,\n",
        "                \"trait\":      trait,\n",
        "                \"item\":       item,\n",
        "                \"response\":   int(clean),\n",
        "                \"logprobs\":   raw_lp,\n",
        "                \"probability\": pct\n",
        "            }\n",
        "\n",
        "    raise ValueError(\"No valid rating token found in response\")\n",
        "\n",
        "# --- Test run with error handling ---\n",
        "try:\n",
        "    result = run_single_simulation_with_logprobs()\n",
        "    print(\"Successful Response:\")\n",
        "    print(json.dumps(result, indent=2, ensure_ascii=False))\n",
        "\n",
        "except Exception as e:\n",
        "    print(f\"Error: {str(e)}\")\n",
        "    print(\"Verify:\")\n",
        "    print(f\"1. Your CHAT_MODEL is set to '{CHAT_MODEL}'\")\n",
        "    print(\"2. You're using the latest openai==1.12.0 client\")\n",
        "    print(\"3. Your API key and CHAT_MODEL has permissions for logprobs\")\n"
      ],
      "metadata": {
        "colab": {
          "base_uri": "https://localhost:8080/"
        },
        "id": "e7buR9mzI96s",
        "outputId": "f60132ea-8a21-4981-c3b9-473418fb7b3e"
      },
      "execution_count": null,
      "outputs": [
        {
          "output_type": "stream",
          "name": "stdout",
          "text": [
            "Successful Response:\n",
            "{\n",
            "  \"bio\": \"I am a quantum uncertainty principle applied to consciousness. I exist in superposition until measured, then immediately change states. Observing me alters what I am.\",\n",
            "  \"trait\": \"conscientiousness\",\n",
            "  \"item\": \"I see myself as someone who tends to be disorganized.\",\n",
            "  \"response\": 2,\n",
            "  \"logprobs\": {\n",
            "    \"2\": -0.04445803537964821,\n",
            "    \"1\": -3.1694581508636475,\n",
            "    \"3\": -6.544457912445068,\n",
            "    \"-\": -12.606958389282227,\n",
            "    \"**\": -12.919458389282227\n",
            "  },\n",
            "  \"probability\": {\n",
            "    \"2\": 95.652916,\n",
            "    \"1\": 4.202695,\n",
            "    \"3\": 0.143808,\n",
            "    \"-\": 0.000335,\n",
            "    \"**\": 0.000245\n",
            "  }\n",
            "}\n"
          ]
        }
      ]
    }
  ]
}